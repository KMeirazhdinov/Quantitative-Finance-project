{
  "nbformat": 4,
  "nbformat_minor": 0,
  "metadata": {
    "colab": {
      "name": "Option_pricing_and_delta_hedging.ipynb",
      "provenance": [],
      "authorship_tag": "ABX9TyPM2jOxZO7i0mEoIAwYg60G",
      "include_colab_link": true
    },
    "kernelspec": {
      "name": "python3",
      "display_name": "Python 3"
    },
    "language_info": {
      "name": "python"
    }
  },
  "cells": [
    {
      "cell_type": "markdown",
      "metadata": {
        "id": "view-in-github",
        "colab_type": "text"
      },
      "source": [
        "<a href=\"https://colab.research.google.com/github/KMeirazhdinov/Quantitative-Finance-project/blob/main/Option_pricing_and_delta_hedging.ipynb\" target=\"_parent\"><img src=\"https://colab.research.google.com/assets/colab-badge.svg\" alt=\"Open In Colab\"/></a>"
      ]
    },
    {
      "cell_type": "markdown",
      "source": [
        "What this file does: \n",
        "\n",
        "\n",
        "1.   Calculates call/put option prices using Black-Scholes formula\n",
        "2.   Calculates the delta of the call/put option using the closed form solution and using the Monte Carlo simulations. \n",
        "3.   Delta hedges the portfolio\n",
        "4.   Performes Euler approximation of the stock price evolution. \n",
        "\n"
      ],
      "metadata": {
        "id": "V9ZRiuBjNTCg"
      }
    },
    {
      "cell_type": "code",
      "source": [
        "import numpy as np\n",
        "import pandas as pd\n",
        "from scipy.stats import norm\n",
        "from ipywidgets import widgets, fixed\n",
        "import matplotlib.pyplot as plt"
      ],
      "metadata": {
        "id": "IUIldQavNYZ1"
      },
      "execution_count": null,
      "outputs": []
    },
    {
      "cell_type": "markdown",
      "source": [
        "Class Black_Scholes creates objects that represent a certain risky asset using the several parameters. Parameters will be shown later. \n",
        "\n",
        "The procedure is as follows: \n",
        "\n",
        "\n",
        "\n",
        "1.   Generate paths of the Brownian motion for the corresponding time grid. Method name - \"Brownian_motion()\".\n",
        "\n",
        "2.   Calculate the Stock prices for the corresponding time grid. For the Black-Scholes by default we calculate the stock price under the risk neutral measure Q. However, mean return of the risky asset can be used as input. Method name - \"Stock_price()\".\n",
        "\n",
        "3.   Calculate d1 and d2 parameters required for the formula. Method name - \"d1_d2_parameters()\".\n",
        "\n",
        "4.   Calculate the price of the call/put option using the Black-Scholes formula. Method name - option_pricing().\n",
        "\n",
        "5.   Calculate the delta of the put/call option using the exact formula and/or using the different methods such as \"Bump and reprice with common numbers\", \"Path-wise method\" and \"Likelihood ratio method\". Small change \"h\" that is used for the derivative approximation can be picked manually. As well as the number of Monte-Carlo simulation. (The more the better). Method name for exact calculation - \"delta()\" and for the approximations - \"delta_approximate(h, m)\".\n",
        "\n",
        "6.   Since we use the self financing portfolio we can derive sample paths of the stock and money market account positions. Method name - \"self_financing_sample_path()\" .\n",
        "\n",
        "7.   Self financing delta hedging of the portfolio. Method name - \"hedge(trading_step, number of options, number of hedging simulations, initial bond price, option type put or call)\".\n",
        "\n"
      ],
      "metadata": {
        "id": "XCNNCSN8eWpv"
      }
    },
    {
      "cell_type": "code",
      "source": [
        "class Black_Scholes:\n",
        "    \n",
        "    def __init__(self, T_, mu_, sigma_, s0_, r_, K_, step_size_):\n",
        "        \n",
        "        self.T = T_\n",
        "        self.mu = mu_\n",
        "        self.sigma = sigma_\n",
        "        self.s0 = s0_\n",
        "        self.r = r_\n",
        "        self.K = K_\n",
        "        self.step_size = step_size_\n",
        "        self.W = None\n",
        "        \n",
        "    def Brownian_motion(self, n, hedging = False):\n",
        "        \n",
        "        self.grid = np.arange(0, T + self.step_size, self.step_size)\n",
        "        self.grid_modified = np.flip(self.grid[1:])\n",
        "        if n != 1:\n",
        "\n",
        "            increments = np.sqrt(self.step_size) * norm.rvs(size = [n, len(self.grid) - 1])\n",
        "            W_holder = np.cumsum(increments, axis = 1)\n",
        "            W_ = [[0]*len(self.grid)]*n\n",
        "            for i in range(0, n):\n",
        "                W_[i] = np.insert(W_holder[i], 0, 0)\n",
        "\n",
        "        else:\n",
        "\n",
        "            increments = np.sqrt(self.step_size) * norm.rvs(size = len(self.grid) - 1)\n",
        "            W_ = np.cumsum(increments)\n",
        "            W_ = np.insert(W_, 0, 0)\n",
        "            \n",
        "        if hedging:\n",
        "\n",
        "            self.W_hedging = W_\n",
        "            return self.W_hedging, self.grid, self.grid_modified\n",
        "\n",
        "        else: \n",
        "\n",
        "            self.W = W_\n",
        "        \n",
        "    def get_Brownian_motion(self):\n",
        "\n",
        "        return self.W\n",
        "    \n",
        "    def Stock_price(self, parameter, hedging = False):\n",
        "\n",
        "        if hedging:\n",
        "\n",
        "            S_ = self.s0 * np.exp((parameter - 0.5 * self.sigma ** 2) * self.grid + np.multiply(self.sigma, self.W_hedging)) #if parameter = r, then risk neutral measure\n",
        "            self.S_hedging = S_\n",
        "            return self.S_hedging\n",
        "\n",
        "        else: \n",
        "\n",
        "            S_ = self.s0 * np.exp((parameter - 0.5 * self.sigma ** 2) * self.grid + np.multiply(self.sigma, self.W))\n",
        "            self.S = S_\n",
        "\n",
        "    def get_Stock_price(self):\n",
        "\n",
        "        return self.S\n",
        "\n",
        "    def euler_approximation(self, Euler_step_size):\n",
        "\n",
        "        refinement = np.arange(0, len(self.grid), Euler_step_size / self.step_size)\n",
        "\n",
        "        self.euler_grid = [0]\n",
        "\n",
        "        self.S_euler = np.zeros((len(refinement),))\n",
        "\n",
        "        self.S_euler[0] = self.s0\n",
        "\n",
        "        for t in range(0, len(refinement)-1):\n",
        "\n",
        "            self.euler_grid.append(self.grid[int(refinement[t+1])])\n",
        "\n",
        "            self.S_euler[t+1] = self.S_euler[t] + self.r*self.S_euler[t] * Euler_step_size + self.sigma*self.S_euler[t]*(self.W[int(refinement[t+1])]-self.W[int(refinement[t])])\n",
        "\n",
        "\n",
        "    def get_euler_approximation(self):\n",
        "\n",
        "        return self.S_euler, self.euler_grid, self.grid\n",
        "\n",
        "    def d1_d2_parameters(self, hedging = False):\n",
        "\n",
        "        def parameters(self, stock):\n",
        "\n",
        "            if np.ndim(stock) != 1:\n",
        "\n",
        "                d1_ = (np.log(stock[:,:len(self.grid_modified)]/self.K) + (self.r + 0.5*self.sigma**2)*(self.grid_modified)) / (self.sigma*np.sqrt(self.grid_modified))\n",
        "                d2_ = d1_ - self.sigma*np.sqrt(self.grid_modified)\n",
        "\n",
        "            else: \n",
        "\n",
        "                d1_ = (np.log(stock[:len(stock)-1]/self.K) + (self.r + 0.5*self.sigma**2)*(self.grid_modified)) / (self.sigma*np.sqrt(self.grid_modified))\n",
        "                d2_ = d1_ - self.sigma*np.sqrt(self.grid_modified)\n",
        "\n",
        "            return d1_,d2_\n",
        "\n",
        "        if hedging:\n",
        "            self.d1_hedging, self.d2_hedging = parameters(self,self.S_hedging)\n",
        "            return self.d1_hedging, self.d2_hedging\n",
        "\n",
        "        else: \n",
        "            self.d1, self.d2 = parameters(self,self.S)\n",
        "\n",
        "\n",
        "    def get_d1_d2_parameters(self):\n",
        "\n",
        "        return self.d1,self.d2\n",
        "\n",
        "\n",
        "    def option_pricing(self, hedging = False):\n",
        "    \n",
        "        def opt(self,d1,d2,stock):\n",
        "            if np.ndim(stock) == 1:\n",
        "\n",
        "                P_ = self.K * np.multiply(np.exp(-self.r*self.grid_modified),norm.cdf(-d2)) - np.multiply(stock[:len(stock)-1],norm.cdf(-d1))\n",
        "                C_ = stock[:len(stock)-1]*norm.cdf(d1,0,1) - self.K*np.exp(-self.r*self.grid_modified)*norm.cdf(d2,0,1)\n",
        "            else: \n",
        "\n",
        "                P_ = self.K * np.multiply(np.exp(-self.r*self.grid_modified),norm.cdf(-d2)) - np.multiply(stock[:,:len(self.grid_modified)],norm.cdf(-d1))\n",
        "                C_ = stock[:,:len(self.grid_modified)]*norm.cdf(d1,0,1) - self.K*np.exp(-self.r*self.grid_modified)*norm.cdf(d2,0,1)\n",
        "\n",
        "            return P_,C_\n",
        "\n",
        "        if hedging:\n",
        "            self.P_hedging,self.C_hedging = opt(self,self.d1_hedging,self.d2_hedging,self.S_hedging)\n",
        "            return self.P_hedging,self.C_hedging\n",
        "        else:\n",
        "            self.P,self.C = opt(self,self.d1,self.d2,self.S)\n",
        "\n",
        "    def get_option_price(self,time):\n",
        "        \n",
        "        if len(np.shape(self.W)) == 1:\n",
        "            \n",
        "            return \"Put option price = {}, Call option price = {}\".format(self.P[time],self.C[time])\n",
        "        \n",
        "        else:\n",
        "            return \"Put option price = {}, Call option price = {}\".format(np.mean(self.P[:,time]),np.mean(self.C[:,time]))\n",
        "\n",
        "    def delta(self, hedging = False):\n",
        "        \n",
        "        if hedging: \n",
        "\n",
        "            self.delta_put_hedging = -norm.cdf(-self.d1_hedging)\n",
        "            self.delta_call_hedging = norm.cdf(self.d1_hedging)\n",
        "            return self.delta_put_hedging,self.delta_call_hedging\n",
        "        else:\n",
        "\n",
        "            self.delta_put = -norm.cdf(-self.d1)\n",
        "            self.delta_call = norm.cdf(self.d1)\n",
        "\n",
        "        \n",
        "    \n",
        "    def get_delta(self,time):\n",
        "        \n",
        "        if len(np.shape(self.W)) == 1:\n",
        "            \n",
        "            return \"Delta of the put option: {}, delta of the call option: {}\".format(self.delta_put[time], self.delta_call[time])\n",
        "        \n",
        "        else:\n",
        "            \n",
        "            return \"Delta of the put option: {}, delta of the call option: {}\".format(np.mean(self.delta_put[:,time]), np.mean(self.delta_call[:,time]))\n",
        "\n",
        "    def delta_approximate(self, h, m):\n",
        "        \n",
        "        # Delta approximation for time = 0.\n",
        "        \n",
        "        # 1.Bump and reprice method with common numbers\n",
        "         \n",
        "        W_T = np.sqrt(T)*norm.rvs(size = m, random_state=None)\n",
        "        S_T = self.s0*np.exp((self.r-0.5*self.sigma**2)*self.T+self.sigma*W_T)\n",
        "        S_T_h = (self.s0+h)*np.exp((self.r-0.5*self.sigma**2)*self.T+self.sigma*W_T)\n",
        "        \n",
        "        # Put\n",
        "        P_T = np.clip(self.K-S_T, 0, np.inf)\n",
        "        P_T_h = np.clip(self.K-S_T_h, 0, np.inf)\n",
        "        proxyprice = np.exp(-self.r*self.T)*np.mean(P_T)\n",
        "        proxyprice_h = np.exp(-self.r*self.T)*np.mean(P_T_h)\n",
        "        self.delta_put_BR_C = (proxyprice_h - proxyprice)/h\n",
        "        \n",
        "        # Call \n",
        "        C_T = np.clip(S_T-self.K, 0, np.inf)\n",
        "        C_T_h = np.clip(S_T_h-self.K, 0, np.inf)\n",
        "        proxyprice_c = np.exp(-self.r*self.T)*np.mean(C_T)\n",
        "        proxyprice_h_c = np.exp(-self.r*self.T)*np.mean(C_T_h)\n",
        "        self.delta_call_BR_C = (proxyprice_h_c - proxyprice_c)/h\n",
        "        \n",
        "        \n",
        "        \n",
        "        # 2.Path-wise method\n",
        "    \n",
        "        S_T = self.s0 * np.exp((self.r-0.5*self.sigma**2) + self.sigma * np.sqrt(self.T) * norm.rvs(size = m, random_state=None))\n",
        "        \n",
        "        # Put \n",
        "        input_delta_pathwise = -np.exp((self.r-0.5*self.sigma**2)*self.T+self.sigma*np.sqrt(self.T)*norm.rvs(0,1))*np.where(S_T < self.K, 1, 0)\n",
        "        self.delta_put_pathwise = np.exp(-self.r*self.T)*np.mean(input_delta_pathwise)\n",
        "        \n",
        "        # Call \n",
        "        input_delta_pathwise_call = np.exp((self.r-0.5*self.sigma**2)*self.T+self.sigma*np.sqrt(self.T)*norm.rvs(0,1))*np.where(S_T > self.K, 1, 0)\n",
        "        self.delta_call_pathwise = np.exp(-self.r*self.T)*np.mean(input_delta_pathwise_call)\n",
        "\n",
        "\n",
        "    \n",
        "        # 3.Likelihood ratio method\n",
        "        \n",
        "        delta_all_LRM = [0]*m\n",
        "        delta_all_LRM_call = [0]*m\n",
        "        \n",
        "        for i in range(0, m-1):\n",
        "\n",
        "            S_T = self.s0*np.exp((self.r-0.5*self.sigma**2)+self.sigma*np.sqrt(self.T)*norm.rvs())\n",
        "\n",
        "            delta_all_LRM[i] = np.clip(self.K-S_T, 0, np.inf)*(np.log(S_T/self.s0)-(self.r-0.5*self.sigma**2)*self.T)/((self.sigma**2)*self.T*self.s0)\n",
        "            delta_all_LRM_call[i] = np.clip(S_T-K, 0, np.inf)*(np.log(S_T/s0)-(r-0.5*sigma**2)*T)/((sigma**2)*T*s0)\n",
        "            \n",
        "        self.delta_put_LRM = np.exp(-self.r*self.T)*np.mean(delta_all_LRM)\n",
        "        self.delta_call_LRM = np.exp(-r*T)*np.mean(delta_all_LRM_call)\n",
        "       \n",
        "    def get_delta_approximate(self,option):\n",
        "        \n",
        "        if option.lower() == \"put\":\n",
        "        \n",
        "            return \"Put option => Bump and reprice with common numbers: {} \\nPath-wise method: {} \\nLikelihood ratio method: {}\".format(self.delta_put_BR_C,self.delta_put_pathwise,self.delta_put_LRM)\n",
        "        \n",
        "        elif option.lower() == \"call\":\n",
        "            \n",
        "            return \"Call option => Bump and reprice with common numbers: {} \\nPath-wise method: {} \\nLikelihood ratio method: {}\".format(self.delta_call_BR_C,self.delta_call_pathwise,self.delta_call_LRM)\n",
        "        \n",
        "    def self_financing_sample_path(self):\n",
        "        \n",
        "        self.phi_sf = self.delta_put\n",
        "        self.B = np.exp(self.r * self.grid)\n",
        "        self.psi_sf = (self.P - self.phi_sf * self.S[:len(self.S)-1]) / self.B[:len(self.B)-1]\n",
        "        self.Value_replicating_portfolio_sf = self.phi_sf * self.S[:len(self.S)-1] + self.psi_sf * self.B[:len(self.B)-1]\n",
        "        \n",
        "    def get_self_financing_sample_path(self):\n",
        "        \n",
        "        return self.phi_sf,self.psi_sf,self.Value_replicating_portfolio_sf\n",
        "      \n",
        "    \n",
        "    def hedge(self, trading_step_, option_number_, N_, B0_,option_type):\n",
        "\n",
        "        self.trading_step = trading_step_\n",
        "        self.option_number = option_number_\n",
        "        self.N = N_\n",
        "        self.B0 = B0_\n",
        "        hedging = True\n",
        "\n",
        "        def trade(self, trade_grid,delta,option):\n",
        "\n",
        "            self.psi = np.zeros([self.N, len(trade_grid)]) \n",
        "            self.phi = np.zeros([self.N, len(trade_grid)]) \n",
        "            self.phi[:,0] = -1 * (self.option_number) * delta[:,0]\n",
        "            available = (-self.option_number)*option[:,0]\n",
        "            self.psi[:,0] = (available - self.phi[:,0]*self.S_hedging[:,0]) / self.B[0]\n",
        "\n",
        "            for i in range(0,self.N-1):\n",
        "                \n",
        "                for t in range(1, len(trade_grid)): \n",
        "                    \n",
        "                    trade_time = np.where(self.grid == trade_grid[t])[0][0]\n",
        "                    delta_t = delta[i,trade_time]\n",
        "                    available = self.phi[i,t-1]*self.S_hedging[i,trade_time] + self.psi[i,t-1]*self.B[trade_time]\n",
        "                    self.phi[i,t] = (-1)*(self.option_number)* delta_t\n",
        "                    self.psi[i,t] = (available - self.phi[i,t]*self.S_hedging[i,trade_time]) / self.B[trade_time]\n",
        "\n",
        "\n",
        "        W,self.grid,self.grid_modified = Black_Scholes.Brownian_motion(self,self.N,hedging)\n",
        "        self.S_hedging = Black_Scholes.Stock_price(self, self.r,hedging)\n",
        "        self.B = self.B0*np.exp(self.r * self.grid)\n",
        "        trade_grid = np.arange(0, self.T, self.trading_step)\n",
        "        d1, d2 = Black_Scholes.d1_d2_parameters(self,hedging)\n",
        "        P, C = Black_Scholes.option_pricing(self,hedging)\n",
        "        delta_put, delta_call = Black_Scholes.delta(self,hedging)\n",
        "        \n",
        "        if option_type.lower() == \"put\":\n",
        "            trade(self, trade_grid, delta_put, P)\n",
        "        else:\n",
        "            trade(self, trade_grid, delta_call, C)\n",
        "\n",
        "\n",
        "    def performance(self):\n",
        "        \n",
        "        self.V_T = self.phi[:,-1]*self.S_hedging[:,-1] + self.psi[:,-1]*self.B[-1]\n",
        "        self.C_T = (-self.option_number)*np.clip(self.K-self.S_hedging[:,-1], 0, np.inf)\n",
        "        self.Liability = self.V_T - self.C_T\n",
        "        self.mean_liability = np.mean(self.Liability)\n",
        "        self.std_liability = np.std(self.Liability)\n",
        "\n",
        "        output = \"Mean liability = {} \\nStandard deviation of the liability = {}\".format(self.mean_liability,self.std_liability)\n",
        "        print(output)\n",
        "\n",
        "        return self.V_T,self.C_T\n",
        "\n"
      ],
      "metadata": {
        "id": "_HUfi3kbRHtb"
      },
      "execution_count": null,
      "outputs": []
    },
    {
      "cell_type": "markdown",
      "source": [
        "Initialize the parameters."
      ],
      "metadata": {
        "id": "H5MvQbDLx6hz"
      }
    },
    {
      "cell_type": "code",
      "source": [
        "T = 1               # Time of option expiration\n",
        "step_size = 0.001   # Step size in the time grid\n",
        "mu = 0.6            # The drift rate of the risky asset S\n",
        "sigma = 0.2         # standard deviation of the risky asset S\n",
        "K = 90              # Strike price\n",
        "s0 = 100            # Initial price of the risky asset S\n",
        "r = 0.01            # Interest rate           # Initial Bond price           # Number of simulations"
      ],
      "metadata": {
        "id": "lfgyCpmhTjYu"
      },
      "execution_count": null,
      "outputs": []
    },
    {
      "cell_type": "markdown",
      "source": [
        "First, generate all the necessary information by calling the following functions."
      ],
      "metadata": {
        "id": "yExa-tZpx-Xr"
      }
    },
    {
      "cell_type": "code",
      "source": [
        "%%capture\n",
        "\n",
        "Stock_1 = Black_Scholes(T, mu, sigma, s0, r, K, step_size)\n",
        "\n",
        "#############################\n",
        "Number_of_simulations = 1\n",
        "#############################\n",
        "\n",
        "Stock_1.Brownian_motion(Number_of_simulations)\n",
        "\n",
        "Stock_1.Stock_price(r)\n",
        "\n",
        "Stock_1.d1_d2_parameters()\n",
        "\n",
        "Stock_1.option_pricing()\n",
        "\n",
        "Stock_1.delta()\n",
        "\n",
        "############################\n",
        "small_change = 0.001 # Small change for the derivative approximation \n",
        "MC_simulations = 10000 # Number of Monte Carlo simulations for the approximation of the delta\n",
        "############################\n",
        "\n",
        "Stock_1.delta_approximate(small_change, MC_simulations)\n",
        "\n",
        "Stock_1.self_financing_sample_path()\n"
      ],
      "metadata": {
        "id": "oOaeuMiuRSa5"
      },
      "execution_count": null,
      "outputs": []
    },
    {
      "cell_type": "code",
      "source": [
        "plt.plot(Stock_1.get_Brownian_motion())\n",
        "plt.title('Brownian motion sample path')\n",
        "plt.show()"
      ],
      "metadata": {
        "colab": {
          "base_uri": "https://localhost:8080/",
          "height": 281
        },
        "id": "URYDBhz9o8hL",
        "outputId": "a9997cb1-0aae-4d2b-8492-d6ac5885b087"
      },
      "execution_count": null,
      "outputs": [
        {
          "output_type": "display_data",
          "data": {
            "image/png": "[encoded data removed]",
            "text/plain": [
              "<Figure size 432x288 with 1 Axes>"
            ]
          },
          "metadata": {
            "needs_background": "light"
          }
        }
      ]
    },
    {
      "cell_type": "code",
      "source": [
        "plt.plot(Stock_1.get_Stock_price())\n",
        "plt.title('Stock price sample path')\n",
        "plt.show()"
      ],
      "metadata": {
        "colab": {
          "base_uri": "https://localhost:8080/",
          "height": 281
        },
        "id": "BMpQBEu9o8dd",
        "outputId": "674dccfb-99b2-4be4-b3c0-e9e93b2f0c83"
      },
      "execution_count": null,
      "outputs": [
        {
          "output_type": "display_data",
          "data": {
            "image/png": "[encoded data removed]",
            "text/plain": [
              "<Figure size 432x288 with 1 Axes>"
            ]
          },
          "metadata": {
            "needs_background": "light"
          }
        }
      ]
    },
    {
      "cell_type": "markdown",
      "source": [
        "The following next 2 cells, perform the Euler approximation of the Stock price under the neutral measure Q. "
      ],
      "metadata": {
        "id": "yuhgIvKeyU5H"
      }
    },
    {
      "cell_type": "code",
      "source": [
        "%%capture\n",
        "euler_step = 0.1\n",
        "Stock_1.euler_approximation(euler_step) "
      ],
      "metadata": {
        "id": "08uQjonvuQzO"
      },
      "execution_count": null,
      "outputs": []
    },
    {
      "cell_type": "code",
      "source": [
        "S_euler, euler_grid, grid = Stock_1.get_euler_approximation()\n",
        "plt.plot(grid, Stock_1.get_Stock_price(), label = \"Exact simulation\")\n",
        "plt.plot(euler_grid, S_euler, label = \"Euler approximation\")\n",
        "plt.title('Euler Approximation with Euler step = {}'.format(euler_step))"
      ],
      "metadata": {
        "colab": {
          "base_uri": "https://localhost:8080/",
          "height": 298
        },
        "id": "IrqMD9SGucl9",
        "outputId": "60e5f60f-e88c-4b66-db08-d2c0f8d45c90"
      },
      "execution_count": null,
      "outputs": [
        {
          "output_type": "execute_result",
          "data": {
            "text/plain": [
              "Text(0.5, 1.0, 'Euler Approximation with Euler step = 0.1')"
            ]
          },
          "metadata": {},
          "execution_count": 41
        },
        {
          "output_type": "display_data",
          "data": {
            "image/png": "[encoded data removed]",
            "text/plain": [
              "<Figure size 432x288 with 1 Axes>"
            ]
          },
          "metadata": {
            "needs_background": "light"
          }
        }
      ]
    },
    {
      "cell_type": "code",
      "source": [
        "print(Stock_1.get_delta(0))"
      ],
      "metadata": {
        "colab": {
          "base_uri": "https://localhost:8080/"
        },
        "id": "u43z2QHao8aE",
        "outputId": "d86da266-91e6-45d0-82d9-70bcdbdfc9ea"
      },
      "execution_count": null,
      "outputs": [
        {
          "output_type": "stream",
          "name": "stdout",
          "text": [
            "Delta of the put option: -0.24926561103492134, delta of the call option: 0.7507343889650786\n"
          ]
        }
      ]
    },
    {
      "cell_type": "code",
      "source": [
        "print(Stock_1.get_delta_approximate('Put'))\n",
        "\n",
        "print(\"\\n\" + Stock_1.get_delta_approximate('call'))"
      ],
      "metadata": {
        "colab": {
          "base_uri": "https://localhost:8080/"
        },
        "id": "2MptCNN3o8Rz",
        "outputId": "71a9cf98-72f1-406a-e835-0b8b0bb0f5d5"
      },
      "execution_count": null,
      "outputs": [
        {
          "output_type": "stream",
          "name": "stdout",
          "text": [
            "Put option => Bump and reprice with common numbers: -0.2426280785559065 \n",
            "Path-wise method: -0.30062137661624383 \n",
            "Likelihood ratio method: -0.24710283145656006\n",
            "\n",
            "Call option => Bump and reprice with common numbers: 0.7595539953957342 \n",
            "Path-wise method: 0.575266067408347 \n",
            "Likelihood ratio method: 0.7421444275936804\n"
          ]
        }
      ]
    },
    {
      "cell_type": "code",
      "source": [
        "stock_position, money_market_position, Value_replicating_portfolio = Stock_1.get_self_financing_sample_path()\n",
        "\n",
        "figure, axis = plt.subplots(2, 2)\n",
        "  \n",
        "axis[0, 0].plot(stock_position)\n",
        "axis[0, 0].set_title(\"Stock position\")\n",
        "\n",
        "axis[0, 1].plot(money_market_position)\n",
        "axis[0, 1].set_title(\"Money market account position\")\n",
        "\n",
        "axis[1, 0].plot(Value_replicating_portfolio)\n",
        "axis[1, 0].set_title(\"Value replicating portfolio\")\n",
        "\n",
        "axis[1, 1].plot(Stock_1.get_Stock_price())\n",
        "axis[1, 1].set_title(\"Stock price\")\n",
        "\n",
        "figure.tight_layout(pad = 2.0)\n",
        "\n",
        "plt.show()"
      ],
      "metadata": {
        "colab": {
          "base_uri": "https://localhost:8080/",
          "height": 279
        },
        "id": "PGw2ujvoo8Nx",
        "outputId": "316d02c4-68fa-4d47-a458-fa391c9ca0bc"
      },
      "execution_count": null,
      "outputs": [
        {
          "output_type": "display_data",
          "data": {
            "image/png": "[encoded data removed]",
            "text/plain": [
              "<Figure size 432x288 with 4 Axes>"
            ]
          },
          "metadata": {
            "needs_background": "light"
          }
        }
      ]
    },
    {
      "cell_type": "markdown",
      "source": [
        "Delta hedging the portfolio.\n",
        "\n",
        "1.   N - number of hedging simulations \n",
        "2.   trading_step - readjustments at a time grid with stepsize \n",
        "\n"
      ],
      "metadata": {
        "id": "cNbzbIU6ye-i"
      }
    },
    {
      "cell_type": "code",
      "source": [
        "%%capture\n",
        "############################\n",
        "N = 1000 \n",
        "trading_step = 0.002 \n",
        "number_of_options = -1000\n",
        "B0 = 1\n",
        "option_type = \"Put\"\n",
        "############################\n",
        "\n",
        "Stock_1.hedge(trading_step, number_of_options, N, B0, option_type)\n",
        "Stock_1.performance()"
      ],
      "metadata": {
        "id": "4YDUS1rAkygY"
      },
      "execution_count": null,
      "outputs": []
    },
    {
      "cell_type": "code",
      "source": [
        "Value_portfolio, Cost = Stock_1.performance()\n",
        "\n",
        "\n",
        "figure, axis = plt.subplots(1, 2)\n",
        "  \n",
        "axis[0].hist(Cost - Value_portfolio,bins = 100)\n",
        "axis[0].set_title(\"Hedge error (C_T - V_T)\")\n",
        "\n",
        "axis[1].scatter(Cost, Value_portfolio)\n",
        "axis[1].set_title(\"Scatter plot Cost vs Value of the portoflio\")\n",
        "\n",
        "figure.tight_layout(pad = 1.5)\n",
        "\n",
        "plt.show()"
      ],
      "metadata": {
        "colab": {
          "base_uri": "https://localhost:8080/",
          "height": 323
        },
        "id": "ER39FYKJnV7G",
        "outputId": "4ca21dab-938e-4047-e444-fb58cc202e35"
      },
      "execution_count": null,
      "outputs": [
        {
          "output_type": "stream",
          "name": "stdout",
          "text": [
            "Mean liability = -1.875445411817578 \n",
            "Standard deviation of the liability = 282.75674967670415\n"
          ]
        },
        {
          "output_type": "display_data",
          "data": {
            "image/png": "[encoded data removed]",
            "text/plain": [
              "<Figure size 432x288 with 2 Axes>"
            ]
          },
          "metadata": {
            "needs_background": "light"
          }
        }
      ]
    },
    {
      "cell_type": "code",
      "source": [
        ""
      ],
      "metadata": {
        "id": "shBCkv8L09dH"
      },
      "execution_count": null,
      "outputs": []
    }
  ]
}